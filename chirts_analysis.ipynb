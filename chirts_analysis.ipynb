{
 "cells": [
  {
   "cell_type": "code",
   "execution_count": 1,
   "id": "970f8348-fad8-4018-8709-63d69ac14ec8",
   "metadata": {},
   "outputs": [],
   "source": [
    "import xarray as xr\n",
    "from utils.data import *\n",
    "from utils.utils import *\n",
    "import matplotlib.pyplot as plt\n",
    "import seaborn as sns\n",
    "import proplot\n",
    "\n",
    "%load_ext autoreload\n",
    "%autoreload 2\n",
    "%reload_ext autoreload"
   ]
  },
  {
   "cell_type": "code",
   "execution_count": 234,
   "id": "11f3ea9c-2d31-4f54-97c4-517fc8d025bf",
   "metadata": {},
   "outputs": [],
   "source": [
    "province = 'ankara'\n",
    "temp_threshold = 30\n",
    "lu_year = 2015 # 2000, 2015\n",
    "chirts_year = 2015 # 2000, 2005, 2010, 2015\n",
    "\n",
    "# numbers starting with 2 or 3: urban\n",
    "# numbers starting with 1 except 10: rural\n",
    "# number 10: water\n",
    "urban_tiles = [21,22,23,30]\n",
    "rural_tiles = [11,12,13]"
   ]
  },
  {
   "cell_type": "code",
   "execution_count": 235,
   "id": "710a3951-043a-4d59-861d-78e02fdf44b3",
   "metadata": {},
   "outputs": [],
   "source": [
    "ds_tmax = xr.open_dataset(fr'data/common/chirts/chirts_tmax_{chirts_year}.nc').tmax\n",
    "ds_tmax = ds_tmax.rio.write_crs(4326)"
   ]
  },
  {
   "cell_type": "code",
   "execution_count": null,
   "id": "0ebf4300-9a7d-4365-bf91-1d3efa996991",
   "metadata": {},
   "outputs": [],
   "source": []
  },
  {
   "cell_type": "code",
   "execution_count": 236,
   "id": "06676f9d-ba71-4e4f-befa-3238dcbdd8ee",
   "metadata": {},
   "outputs": [],
   "source": [
    "ds_lu = retrieve_ghs(province=province).sel(time=lu_year)"
   ]
  },
  {
   "cell_type": "code",
   "execution_count": 237,
   "id": "4f225fa3-aeae-4b95-a6d8-5dc362732cd1",
   "metadata": {},
   "outputs": [],
   "source": [
    "ds_tmax_clipped = clip_subroutine(ds_tmax, province, 'X', 'Y')"
   ]
  },
  {
   "cell_type": "code",
   "execution_count": 238,
   "id": "282c3808-fec3-43ac-b3a7-ecbd39c0a444",
   "metadata": {},
   "outputs": [],
   "source": [
    "ds_threshold_days = xr.where(ds_tmax_clipped>=temp_threshold, 1, 0).sum(dim='T')"
   ]
  },
  {
   "cell_type": "code",
   "execution_count": 239,
   "id": "ff619194-71f4-4e52-be88-3f87b3065dc8",
   "metadata": {},
   "outputs": [],
   "source": [
    "_, ds_lu_repr = regrid_match(ds_threshold_days, ds_lu, ds_threshold_days.rio.crs, ds_lu.rio.crs)"
   ]
  },
  {
   "cell_type": "code",
   "execution_count": 240,
   "id": "050a35b4-04a9-495d-b5ff-0bc78a2b7bb5",
   "metadata": {},
   "outputs": [],
   "source": [
    "ds_lu_repr = xr.where(ds_lu_repr<0, np.nan, ds_lu_repr)"
   ]
  },
  {
   "cell_type": "code",
   "execution_count": 241,
   "id": "e9dc9dba-da3e-492f-be3d-5fcc0b1bbe46",
   "metadata": {},
   "outputs": [],
   "source": [
    "ds_lu_repr_class = classify_urban_rural(ds_lu_repr, urban_tiles, rural_tiles) "
   ]
  },
  {
   "cell_type": "code",
   "execution_count": 242,
   "id": "63d0dccd-47a9-49f8-a443-ad90c7346187",
   "metadata": {},
   "outputs": [],
   "source": [
    "# interpolate\n",
    "Y_dir, X_dir = ds_lu_repr_class.indexes.values()\n",
    "ds_threshold = ds_threshold_days.interp(X=X_dir, Y=Y_dir, method=\"nearest\") # interp to model grid"
   ]
  },
  {
   "cell_type": "code",
   "execution_count": 243,
   "id": "231e72f6-95bb-42a2-bc0f-c4cb35d1e4c0",
   "metadata": {},
   "outputs": [],
   "source": [
    "urban_threshold_days = xr.where(ds_lu_repr_class==1, ds_threshold, np.nan)\n",
    "rural_threshold_days = xr.where(ds_lu_repr_class==0, ds_threshold, np.nan)"
   ]
  },
  {
   "cell_type": "code",
   "execution_count": 244,
   "id": "aaa6dd1c-4321-4bb3-9d04-2c543b69b021",
   "metadata": {},
   "outputs": [
    {
     "name": "stdout",
     "output_type": "stream",
     "text": [
      "49.0\n",
      "49.0\n"
     ]
    }
   ],
   "source": [
    "print(np.nanmedian(urban_threshold_days))\n",
    "print(np.nanmedian(rural_threshold_days))"
   ]
  },
  {
   "cell_type": "code",
   "execution_count": 185,
   "id": "c8156fe2-a878-4dc2-a2a0-a585b62e5d69",
   "metadata": {},
   "outputs": [
    {
     "name": "stdout",
     "output_type": "stream",
     "text": [
      "42.0\n",
      "44.0\n"
     ]
    }
   ],
   "source": [
    "print(np.max(urban_threshold_days).values)\n",
    "print(np.max(rural_threshold_days).values)"
   ]
  },
  {
   "cell_type": "code",
   "execution_count": null,
   "id": "7c53fb1f-93eb-48c6-929c-cdb1f5207658",
   "metadata": {},
   "outputs": [],
   "source": []
  },
  {
   "cell_type": "code",
   "execution_count": null,
   "id": "cf065c90-a6d9-4f25-b98c-37bfc14c8239",
   "metadata": {},
   "outputs": [],
   "source": []
  },
  {
   "cell_type": "code",
   "execution_count": null,
   "id": "1843ce2b-aca8-4f84-953a-11b11ce0c409",
   "metadata": {},
   "outputs": [],
   "source": []
  },
  {
   "cell_type": "code",
   "execution_count": null,
   "id": "1d2d0e91-8a29-4732-a3fe-678924a67d17",
   "metadata": {},
   "outputs": [],
   "source": []
  },
  {
   "cell_type": "code",
   "execution_count": null,
   "id": "21683bbd-7c99-44f7-9ed8-ae00c15c7b70",
   "metadata": {},
   "outputs": [],
   "source": []
  },
  {
   "cell_type": "code",
   "execution_count": null,
   "id": "b39def9b-7c2b-4d61-818f-a2d9dbcc4621",
   "metadata": {},
   "outputs": [],
   "source": []
  },
  {
   "cell_type": "code",
   "execution_count": null,
   "id": "ebafdb7d-6184-42f9-bd3e-2b352a62360e",
   "metadata": {},
   "outputs": [],
   "source": []
  },
  {
   "cell_type": "code",
   "execution_count": null,
   "id": "ccc875a7-69a8-456b-b273-15bfe98f74c6",
   "metadata": {},
   "outputs": [],
   "source": []
  },
  {
   "cell_type": "code",
   "execution_count": null,
   "id": "d66e1758-8a14-49d5-b6ba-262e76b6d459",
   "metadata": {},
   "outputs": [],
   "source": []
  },
  {
   "cell_type": "code",
   "execution_count": null,
   "id": "153afd31-4687-458d-af44-f3ad01aad335",
   "metadata": {},
   "outputs": [],
   "source": []
  },
  {
   "cell_type": "code",
   "execution_count": null,
   "id": "6ec2527b-2964-449d-a423-30251beeec7e",
   "metadata": {},
   "outputs": [],
   "source": []
  },
  {
   "cell_type": "code",
   "execution_count": null,
   "id": "aa1eba29-9da5-42f6-8c49-2e23f32a96c6",
   "metadata": {},
   "outputs": [],
   "source": []
  },
  {
   "cell_type": "code",
   "execution_count": null,
   "id": "21b7eeb7-e93d-498c-97dd-0cce334e95c1",
   "metadata": {},
   "outputs": [],
   "source": []
  },
  {
   "cell_type": "code",
   "execution_count": null,
   "id": "06cd73b1-4e26-4f9c-be5d-f61ad0a3f7ee",
   "metadata": {},
   "outputs": [],
   "source": []
  }
 ],
 "metadata": {
  "kernelspec": {
   "display_name": "Python 3 (ipykernel)",
   "language": "python",
   "name": "python3"
  },
  "language_info": {
   "codemirror_mode": {
    "name": "ipython",
    "version": 3
   },
   "file_extension": ".py",
   "mimetype": "text/x-python",
   "name": "python",
   "nbconvert_exporter": "python",
   "pygments_lexer": "ipython3",
   "version": "3.9.7"
  }
 },
 "nbformat": 4,
 "nbformat_minor": 5
}
