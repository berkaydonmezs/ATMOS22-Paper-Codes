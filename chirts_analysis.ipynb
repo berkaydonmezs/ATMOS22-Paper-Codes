{
 "cells": [
  {
   "cell_type": "markdown",
   "id": "ef80226b-6db3-4c7a-acd3-450daa9183e7",
   "metadata": {},
   "source": [
    "# ATMOS 2022 - CHIRTS Analysis"
   ]
  },
  {
   "cell_type": "markdown",
   "id": "e95c7975-c9b2-4703-9e80-6b4cfe3f3f60",
   "metadata": {},
   "source": [
    "## 0. Import Libraries"
   ]
  },
  {
   "cell_type": "code",
   "execution_count": 6,
   "id": "970f8348-fad8-4018-8709-63d69ac14ec8",
   "metadata": {},
   "outputs": [
    {
     "name": "stdout",
     "output_type": "stream",
     "text": [
      "The autoreload extension is already loaded. To reload it, use:\n",
      "  %reload_ext autoreload\n"
     ]
    }
   ],
   "source": [
    "import xarray as xr\n",
    "from utils.data import *\n",
    "from utils.utils import *\n",
    "import matplotlib.pyplot as plt\n",
    "import seaborn as sns\n",
    "import proplot\n",
    "\n",
    "%load_ext autoreload\n",
    "%autoreload 2\n",
    "%reload_ext autoreload"
   ]
  },
  {
   "cell_type": "code",
   "execution_count": 51,
   "id": "8c8b987b-91d2-4d19-9ab0-8f935a2d600a",
   "metadata": {},
   "outputs": [],
   "source": [
    "# numbers starting with 2 or 3: urban\n",
    "# numbers starting with 1 except 10: rural\n",
    "# number 10: water\n",
    "urban_tiles = [21,22,23,30]\n",
    "rural_tiles = [11,12,13]"
   ]
  },
  {
   "cell_type": "markdown",
   "id": "57c4f72e-a0f6-4469-ab5c-9b27bf778e89",
   "metadata": {},
   "source": [
    "## 1. Number of Days Analysis"
   ]
  },
  {
   "cell_type": "code",
   "execution_count": 49,
   "id": "11f3ea9c-2d31-4f54-97c4-517fc8d025bf",
   "metadata": {},
   "outputs": [],
   "source": [
    "temp_threshold = 30\n",
    "lu_year = 2015 # 2000, 2015"
   ]
  },
  {
   "cell_type": "code",
   "execution_count": 58,
   "id": "710a3951-043a-4d59-861d-78e02fdf44b3",
   "metadata": {},
   "outputs": [],
   "source": [
    "provinces = ['istanbul', 'ankara']\n",
    "\n",
    "# land uses\n",
    "luses = ['urban', 'nourban']\n",
    "\n",
    "data_days_dict = {}\n",
    "for province in provinces:\n",
    "    \n",
    "    luse_dict = {}\n",
    "    for luse in luses:\n",
    "        \n",
    "        year_dict = {}\n",
    "        for chirts_year in range(2011, 2017):\n",
    "            \n",
    "            ds_tmax = xr.open_dataset(fr'data/common/chirts/chirts_{chirts_year}.nc').tmax\n",
    "            ds_tmax['T'] = pd.date_range(datetime(chirts_year, 1, 1),\n",
    "                                          datetime(chirts_year, 12, 31),\n",
    "                                          freq='1d'\n",
    "                                        )\n",
    "            ds_tmax = ds_tmax.rio.write_crs(4326)\n",
    "            ds_lu = retrieve_ghs(province=province).sel(time=lu_year)\n",
    "            ds_tmax_clipped = clip_subroutine(ds_tmax,\n",
    "                                              province,\n",
    "                                              'X', 'Y')\n",
    "            \n",
    "            ds_threshold_days = xr.where(ds_tmax_clipped>=temp_threshold,\n",
    "                                         1,\n",
    "                                         0).sum(dim='T')\n",
    "            ds_threshold_days, ds_lu_repr = regrid_match(ds_threshold_days,\n",
    "                                                         ds_lu,\n",
    "                                                         ds_threshold_days.rio.crs,\n",
    "                                                         ds_lu.rio.crs,\n",
    "                                                         'X', 'Y',\n",
    "                                                         'x', 'y'\n",
    "                                                        )\n",
    "            ds_lu_repr = xr.where(ds_lu_repr<0,\n",
    "                                  np.nan,\n",
    "                                  ds_lu_repr\n",
    "                                 )\n",
    "            ds_lu_repr_class = classify_urban_rural(ds_lu_repr,\n",
    "                                                    urban_tiles,\n",
    "                                                    rural_tiles\n",
    "                                                   ) \n",
    "            # interpolate\n",
    "            Y_dir, X_dir = ds_lu_repr_class.indexes.values()\n",
    "            ds_threshold = ds_threshold_days.interp(X=X_dir, \n",
    "                                                    Y=Y_dir, \n",
    "                                                    method=\"nearest\"\n",
    "                                                   ) # interp to model grid\n",
    "            \n",
    "            if luse == 'urban':\n",
    "                class_ = 1\n",
    "                anti = 0\n",
    "            else:\n",
    "                class_ = 0\n",
    "                anti = 1\n",
    "                \n",
    "            threshold_days = xr.where(ds_lu_repr_class==class_,\n",
    "                                            ds_threshold, np.nan\n",
    "                                           )\n",
    "            \n",
    "            year_dict[chirts_year] = np.round(threshold_days.median().values, 0)\n",
    "            \n",
    "        luse_dict[luse] = year_dict\n",
    "    \n",
    "    data_days_dict[province] = luse_dict"
   ]
  },
  {
   "cell_type": "code",
   "execution_count": 60,
   "id": "266a6541-eab5-4e2d-a567-8dfce5dd91db",
   "metadata": {},
   "outputs": [
    {
     "data": {
      "text/plain": [
       "{'istanbul': {'urban': {2011: 16.0,\n",
       "   2012: 42.0,\n",
       "   2013: 15.0,\n",
       "   2014: 16.0,\n",
       "   2015: 17.0,\n",
       "   2016: 34.0},\n",
       "  'nourban': {2011: 8.0,\n",
       "   2012: 33.0,\n",
       "   2013: 6.0,\n",
       "   2014: 6.0,\n",
       "   2015: 12.0,\n",
       "   2016: 23.0}},\n",
       " 'ankara': {'urban': {2011: 26.0,\n",
       "   2012: 57.0,\n",
       "   2013: 33.0,\n",
       "   2014: 53.0,\n",
       "   2015: 49.0,\n",
       "   2016: 48.0},\n",
       "  'nourban': {2011: 25.0,\n",
       "   2012: 54.0,\n",
       "   2013: 34.0,\n",
       "   2014: 55.0,\n",
       "   2015: 49.0,\n",
       "   2016: 51.0}}}"
      ]
     },
     "execution_count": 60,
     "metadata": {},
     "output_type": "execute_result"
    }
   ],
   "source": [
    "# median\n",
    "data_days_dict"
   ]
  },
  {
   "cell_type": "code",
   "execution_count": null,
   "id": "9d53baa4-3c83-421b-8d67-6ef15bd92c30",
   "metadata": {},
   "outputs": [],
   "source": []
  }
 ],
 "metadata": {
  "kernelspec": {
   "display_name": "Python 3 (ipykernel)",
   "language": "python",
   "name": "python3"
  },
  "language_info": {
   "codemirror_mode": {
    "name": "ipython",
    "version": 3
   },
   "file_extension": ".py",
   "mimetype": "text/x-python",
   "name": "python",
   "nbconvert_exporter": "python",
   "pygments_lexer": "ipython3",
   "version": "3.9.7"
  }
 },
 "nbformat": 4,
 "nbformat_minor": 5
}
